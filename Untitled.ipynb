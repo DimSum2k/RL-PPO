{
 "cells": [
  {
   "cell_type": "code",
   "execution_count": 1,
   "metadata": {},
   "outputs": [],
   "source": [
    "import gym\n",
    "from networks import CustomDiscreteActorNetwork\n",
    "import torch\n",
    "from time import time"
   ]
  },
  {
   "cell_type": "markdown",
   "metadata": {},
   "source": [
    "# clipped_loss"
   ]
  },
  {
   "cell_type": "code",
   "execution_count": 2,
   "metadata": {
    "scrolled": true
   },
   "outputs": [
    {
     "name": "stderr",
     "output_type": "stream",
     "text": [
      "[2020-05-16 18:16:39,705] Making new env: CartPole-v0\n",
      "C:\\Users\\delan\\AppData\\Local\\Continuum\\anaconda3\\lib\\site-packages\\gym\\envs\\registration.py:17: PkgResourcesDeprecationWarning: Parameters to load are deprecated.  Call .resolve and .require separately.\n",
      "  result = entry_point.load(False)\n"
     ]
    },
    {
     "name": "stdout",
     "output_type": "stream",
     "text": [
      "Episode finished after 200 timesteps\n",
      "Score :200.0\n",
      "Episode finished after 200 timesteps\n",
      "Score :200.0\n",
      "Episode finished after 200 timesteps\n",
      "Score :200.0\n",
      "Episode finished after 200 timesteps\n",
      "Score :200.0\n",
      "Episode finished after 200 timesteps\n",
      "Score :200.0\n",
      "Episode finished after 200 timesteps\n",
      "Score :200.0\n",
      "Episode finished after 200 timesteps\n",
      "Score :200.0\n",
      "Episode finished after 200 timesteps\n",
      "Score :200.0\n",
      "Episode finished after 200 timesteps\n",
      "Score :200.0\n",
      "Episode finished after 200 timesteps\n",
      "Score :200.0\n"
     ]
    }
   ],
   "source": [
    "env = gym.make('CartPole-v0')\n",
    "\n",
    "policy = CustomDiscreteActorNetwork(env.observation_space.shape[0],\n",
    "                                    64,\n",
    "                                    env.action_space.n)\n",
    "\n",
    "path = \"experiences\\CartPole-v1_21806942\\weights\\clipped_loss_actor.pth\"\n",
    "\n",
    "policy.load_state_dict(torch.load(path))\n",
    "policy.eval()\n",
    "\n",
    "for i_episode in range(10):\n",
    "\n",
    "    observation = env.reset()  # reset for each new trial\n",
    "    score = 0\n",
    "    for t in range(1000):  # run for 100 timesteps or until done, whichever is first\n",
    "        env.render()\n",
    "        observation = torch.from_numpy(observation).float()\n",
    "        action = policy.select_action(observation)[0]\n",
    "        observation, reward, done, info = env.step(action)\n",
    "        score += reward\n",
    "\n",
    "        if done or t == 999:\n",
    "            print(\"Episode finished after {} timesteps\".format(t+1))\n",
    "            print(\"Score :\" + str(score))\n",
    "            break\n"
   ]
  },
  {
   "cell_type": "markdown",
   "metadata": {},
   "source": [
    "# A2C_loss_actor"
   ]
  },
  {
   "cell_type": "code",
   "execution_count": 3,
   "metadata": {},
   "outputs": [
    {
     "name": "stderr",
     "output_type": "stream",
     "text": [
      "[2020-05-16 18:17:13,173] Making new env: CartPole-v0\n"
     ]
    },
    {
     "name": "stdout",
     "output_type": "stream",
     "text": [
      "Episode finished after 200 timesteps\n",
      "Score :200.0\n",
      "Episode finished after 200 timesteps\n",
      "Score :200.0\n",
      "Episode finished after 200 timesteps\n",
      "Score :200.0\n",
      "Episode finished after 200 timesteps\n",
      "Score :200.0\n",
      "Episode finished after 200 timesteps\n",
      "Score :200.0\n",
      "Episode finished after 200 timesteps\n",
      "Score :200.0\n",
      "Episode finished after 200 timesteps\n",
      "Score :200.0\n",
      "Episode finished after 200 timesteps\n",
      "Score :200.0\n",
      "Episode finished after 200 timesteps\n",
      "Score :200.0\n",
      "Episode finished after 200 timesteps\n",
      "Score :200.0\n"
     ]
    }
   ],
   "source": [
    "env = gym.make('CartPole-v0')\n",
    "\n",
    "policy = CustomDiscreteActorNetwork(env.observation_space.shape[0],\n",
    "                                    64,\n",
    "                                    env.action_space.n)\n",
    "\n",
    "path = \"experiences\\CartPole-v1_21806942\\weights\\A2C_loss_actor.pth\"\n",
    "\n",
    "policy.load_state_dict(torch.load(path))\n",
    "policy.eval()\n",
    "\n",
    "for i_episode in range(10):\n",
    "\n",
    "    observation = env.reset()  # reset for each new trial\n",
    "    score = 0\n",
    "    for t in range(1000):  # run for 100 timesteps or until done, whichever is first\n",
    "        env.render()\n",
    "        observation = torch.from_numpy(observation).float()\n",
    "        action = policy.select_action(observation)[0]\n",
    "        observation, reward, done, info = env.step(action)\n",
    "        score += reward\n",
    "\n",
    "        if done or t == 999:\n",
    "            print(\"Episode finished after {} timesteps\".format(t+1))\n",
    "            print(\"Score :\" + str(score))\n",
    "            break\n"
   ]
  },
  {
   "cell_type": "markdown",
   "metadata": {},
   "source": [
    "# adaptative_KL_loss_actor"
   ]
  },
  {
   "cell_type": "code",
   "execution_count": 4,
   "metadata": {
    "scrolled": true
   },
   "outputs": [
    {
     "name": "stderr",
     "output_type": "stream",
     "text": [
      "[2020-05-16 18:17:46,524] Making new env: CartPole-v0\n"
     ]
    },
    {
     "ename": "OSError",
     "evalue": "[Errno 22] Invalid argument: 'experiences\\\\CartPole-v1_21806942\\\\weights\\x07daptative_KL_loss_actor.pth'",
     "output_type": "error",
     "traceback": [
      "\u001b[1;31m---------------------------------------------------------------------------\u001b[0m",
      "\u001b[1;31mOSError\u001b[0m                                   Traceback (most recent call last)",
      "\u001b[1;32m<ipython-input-4-3851e1a57164>\u001b[0m in \u001b[0;36m<module>\u001b[1;34m\u001b[0m\n\u001b[0;32m      7\u001b[0m \u001b[0mpath\u001b[0m \u001b[1;33m=\u001b[0m \u001b[1;34m\"experiences\\CartPole-v1_21806942\\weights\\adaptative_KL_loss_actor.pth\"\u001b[0m\u001b[1;33m\u001b[0m\u001b[1;33m\u001b[0m\u001b[0m\n\u001b[0;32m      8\u001b[0m \u001b[1;33m\u001b[0m\u001b[0m\n\u001b[1;32m----> 9\u001b[1;33m \u001b[0mpolicy\u001b[0m\u001b[1;33m.\u001b[0m\u001b[0mload_state_dict\u001b[0m\u001b[1;33m(\u001b[0m\u001b[0mtorch\u001b[0m\u001b[1;33m.\u001b[0m\u001b[0mload\u001b[0m\u001b[1;33m(\u001b[0m\u001b[0mpath\u001b[0m\u001b[1;33m)\u001b[0m\u001b[1;33m)\u001b[0m\u001b[1;33m\u001b[0m\u001b[1;33m\u001b[0m\u001b[0m\n\u001b[0m\u001b[0;32m     10\u001b[0m \u001b[0mpolicy\u001b[0m\u001b[1;33m.\u001b[0m\u001b[0meval\u001b[0m\u001b[1;33m(\u001b[0m\u001b[1;33m)\u001b[0m\u001b[1;33m\u001b[0m\u001b[1;33m\u001b[0m\u001b[0m\n\u001b[0;32m     11\u001b[0m \u001b[1;33m\u001b[0m\u001b[0m\n",
      "\u001b[1;32m~\\AppData\\Local\\Continuum\\anaconda3\\lib\\site-packages\\torch\\serialization.py\u001b[0m in \u001b[0;36mload\u001b[1;34m(f, map_location, pickle_module, **pickle_load_args)\u001b[0m\n\u001b[0;32m    417\u001b[0m             \u001b[1;33m(\u001b[0m\u001b[0msys\u001b[0m\u001b[1;33m.\u001b[0m\u001b[0mversion_info\u001b[0m\u001b[1;33m[\u001b[0m\u001b[1;36m0\u001b[0m\u001b[1;33m]\u001b[0m \u001b[1;33m==\u001b[0m \u001b[1;36m2\u001b[0m \u001b[1;32mand\u001b[0m \u001b[0misinstance\u001b[0m\u001b[1;33m(\u001b[0m\u001b[0mf\u001b[0m\u001b[1;33m,\u001b[0m \u001b[0municode\u001b[0m\u001b[1;33m)\u001b[0m\u001b[1;33m)\u001b[0m\u001b[1;33m:\u001b[0m\u001b[1;33m\u001b[0m\u001b[1;33m\u001b[0m\u001b[0m\n\u001b[0;32m    418\u001b[0m         \u001b[0mnew_fd\u001b[0m \u001b[1;33m=\u001b[0m \u001b[1;32mTrue\u001b[0m\u001b[1;33m\u001b[0m\u001b[1;33m\u001b[0m\u001b[0m\n\u001b[1;32m--> 419\u001b[1;33m         \u001b[0mf\u001b[0m \u001b[1;33m=\u001b[0m \u001b[0mopen\u001b[0m\u001b[1;33m(\u001b[0m\u001b[0mf\u001b[0m\u001b[1;33m,\u001b[0m \u001b[1;34m'rb'\u001b[0m\u001b[1;33m)\u001b[0m\u001b[1;33m\u001b[0m\u001b[1;33m\u001b[0m\u001b[0m\n\u001b[0m\u001b[0;32m    420\u001b[0m     \u001b[1;32melif\u001b[0m \u001b[1;33m(\u001b[0m\u001b[0msys\u001b[0m\u001b[1;33m.\u001b[0m\u001b[0mversion_info\u001b[0m\u001b[1;33m[\u001b[0m\u001b[1;36m0\u001b[0m\u001b[1;33m]\u001b[0m \u001b[1;33m==\u001b[0m \u001b[1;36m3\u001b[0m \u001b[1;32mand\u001b[0m \u001b[0misinstance\u001b[0m\u001b[1;33m(\u001b[0m\u001b[0mf\u001b[0m\u001b[1;33m,\u001b[0m \u001b[0mpathlib\u001b[0m\u001b[1;33m.\u001b[0m\u001b[0mPath\u001b[0m\u001b[1;33m)\u001b[0m\u001b[1;33m)\u001b[0m\u001b[1;33m:\u001b[0m\u001b[1;33m\u001b[0m\u001b[1;33m\u001b[0m\u001b[0m\n\u001b[0;32m    421\u001b[0m         \u001b[0mnew_fd\u001b[0m \u001b[1;33m=\u001b[0m \u001b[1;32mTrue\u001b[0m\u001b[1;33m\u001b[0m\u001b[1;33m\u001b[0m\u001b[0m\n",
      "\u001b[1;31mOSError\u001b[0m: [Errno 22] Invalid argument: 'experiences\\\\CartPole-v1_21806942\\\\weights\\x07daptative_KL_loss_actor.pth'"
     ]
    }
   ],
   "source": [
    "env = gym.make('CartPole-v0')\n",
    "\n",
    "policy = CustomDiscreteActorNetwork(env.observation_space.shape[0],\n",
    "                                    64,\n",
    "                                    env.action_space.n)\n",
    "\n",
    "path = \"experiences\\CartPole-v1_21806942\\weights\\adaptative_KL_loss_actor.pth\"\n",
    "\n",
    "policy.load_state_dict(torch.load(path))\n",
    "policy.eval()\n",
    "\n",
    "for i_episode in range(10):\n",
    "\n",
    "    observation = env.reset()  # reset for each new trial\n",
    "    score = 0\n",
    "    for t in range(1000):  # run for 100 timesteps or until done, whichever is first\n",
    "        env.render()\n",
    "        observation = torch.from_numpy(observation).float()\n",
    "        action = policy.select_action(observation)[0]\n",
    "        observation, reward, done, info = env.step(action)\n",
    "        score += reward\n",
    "\n",
    "        if done or t == 999:\n",
    "            print(\"Episode finished after {} timesteps\".format(t+1))\n",
    "            print(\"Score :\" + str(score))\n",
    "            break\n"
   ]
  },
  {
   "cell_type": "code",
   "execution_count": null,
   "metadata": {},
   "outputs": [],
   "source": []
  }
 ],
 "metadata": {
  "kernelspec": {
   "display_name": "Python 3",
   "language": "python",
   "name": "python3"
  },
  "language_info": {
   "codemirror_mode": {
    "name": "ipython",
    "version": 3
   },
   "file_extension": ".py",
   "mimetype": "text/x-python",
   "name": "python",
   "nbconvert_exporter": "python",
   "pygments_lexer": "ipython3",
   "version": "3.7.4"
  }
 },
 "nbformat": 4,
 "nbformat_minor": 2
}
